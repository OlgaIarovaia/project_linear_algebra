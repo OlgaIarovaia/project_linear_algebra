{
 "cells": [
  {
   "cell_type": "markdown",
   "id": "95e1e4f4",
   "metadata": {},
   "source": [
    "# Исходные данные\n"
   ]
  },
  {
   "cell_type": "markdown",
   "id": "1f952319",
   "metadata": {},
   "source": [
    " - Признаки: пол, возраст и зарплата застрахованного, количество членов его семьи.\n",
    " - Целевой признак: количество страховых выплат клиенту за последние 5 лет."
   ]
  },
  {
   "cell_type": "markdown",
   "id": "aa8728eb",
   "metadata": {},
   "source": [
    "# Задача"
   ]
  },
  {
   "cell_type": "markdown",
   "id": "0558ee19",
   "metadata": {},
   "source": [
    "Защитить данные клиентов страховой компании «Хоть потоп».\n",
    "\n",
    " - разработать такой метод преобразования данных, чтобы по ним было сложно восстановить персональную информацию. \n",
    " - обосновать корректность работы метода.\n",
    " - при преобразовании качество моделей машинного обучения не должно ухудшаться. \n",
    " \n",
    "Подбирать наилучшую модель не требуется."
   ]
  },
  {
   "cell_type": "markdown",
   "id": "648da371",
   "metadata": {},
   "source": [
    "# Ход работы"
   ]
  },
  {
   "cell_type": "markdown",
   "id": "35800171",
   "metadata": {},
   "source": [
    "## Обзор данных\n"
   ]
  },
  {
   "cell_type": "code",
   "execution_count": 1,
   "id": "752d6558",
   "metadata": {},
   "outputs": [],
   "source": [
    "# импорт библиотек\n",
    "\n",
    "import pandas as pd\n",
    "import seaborn as sns\n",
    "import numpy as np\n",
    "from sklearn.model_selection import train_test_split\n",
    "from sklearn.pipeline import Pipeline\n",
    "from sklearn.base import BaseEstimator\n",
    "from sklearn.base import TransformerMixin\n",
    "from sklearn.preprocessing import StandardScaler\n",
    "from sklearn.linear_model import LinearRegression\n",
    "from sklearn.metrics import r2_score"
   ]
  },
  {
   "cell_type": "code",
   "execution_count": 2,
   "id": "baefbe51",
   "metadata": {},
   "outputs": [],
   "source": [
    "# открытие файла\n",
    "\n",
    "try:\n",
    "    data = pd.read_csv('insurance.csv')\n",
    "except:\n",
    "    data = pd.read_csv('/datasets/insurance.csv')   "
   ]
  },
  {
   "cell_type": "code",
   "execution_count": 3,
   "id": "4bf2683a",
   "metadata": {},
   "outputs": [
    {
     "data": {
      "text/html": [
       "<div>\n",
       "<style scoped>\n",
       "    .dataframe tbody tr th:only-of-type {\n",
       "        vertical-align: middle;\n",
       "    }\n",
       "\n",
       "    .dataframe tbody tr th {\n",
       "        vertical-align: top;\n",
       "    }\n",
       "\n",
       "    .dataframe thead th {\n",
       "        text-align: right;\n",
       "    }\n",
       "</style>\n",
       "<table border=\"1\" class=\"dataframe\">\n",
       "  <thead>\n",
       "    <tr style=\"text-align: right;\">\n",
       "      <th></th>\n",
       "      <th>Пол</th>\n",
       "      <th>Возраст</th>\n",
       "      <th>Зарплата</th>\n",
       "      <th>Члены семьи</th>\n",
       "      <th>Страховые выплаты</th>\n",
       "    </tr>\n",
       "  </thead>\n",
       "  <tbody>\n",
       "    <tr>\n",
       "      <th>0</th>\n",
       "      <td>1</td>\n",
       "      <td>41.0</td>\n",
       "      <td>49600.0</td>\n",
       "      <td>1</td>\n",
       "      <td>0</td>\n",
       "    </tr>\n",
       "    <tr>\n",
       "      <th>1</th>\n",
       "      <td>0</td>\n",
       "      <td>46.0</td>\n",
       "      <td>38000.0</td>\n",
       "      <td>1</td>\n",
       "      <td>1</td>\n",
       "    </tr>\n",
       "    <tr>\n",
       "      <th>2</th>\n",
       "      <td>0</td>\n",
       "      <td>29.0</td>\n",
       "      <td>21000.0</td>\n",
       "      <td>0</td>\n",
       "      <td>0</td>\n",
       "    </tr>\n",
       "    <tr>\n",
       "      <th>3</th>\n",
       "      <td>0</td>\n",
       "      <td>21.0</td>\n",
       "      <td>41700.0</td>\n",
       "      <td>2</td>\n",
       "      <td>0</td>\n",
       "    </tr>\n",
       "    <tr>\n",
       "      <th>4</th>\n",
       "      <td>1</td>\n",
       "      <td>28.0</td>\n",
       "      <td>26100.0</td>\n",
       "      <td>0</td>\n",
       "      <td>0</td>\n",
       "    </tr>\n",
       "    <tr>\n",
       "      <th>5</th>\n",
       "      <td>1</td>\n",
       "      <td>43.0</td>\n",
       "      <td>41000.0</td>\n",
       "      <td>2</td>\n",
       "      <td>1</td>\n",
       "    </tr>\n",
       "    <tr>\n",
       "      <th>6</th>\n",
       "      <td>1</td>\n",
       "      <td>39.0</td>\n",
       "      <td>39700.0</td>\n",
       "      <td>2</td>\n",
       "      <td>0</td>\n",
       "    </tr>\n",
       "    <tr>\n",
       "      <th>7</th>\n",
       "      <td>1</td>\n",
       "      <td>25.0</td>\n",
       "      <td>38600.0</td>\n",
       "      <td>4</td>\n",
       "      <td>0</td>\n",
       "    </tr>\n",
       "    <tr>\n",
       "      <th>8</th>\n",
       "      <td>1</td>\n",
       "      <td>36.0</td>\n",
       "      <td>49700.0</td>\n",
       "      <td>1</td>\n",
       "      <td>0</td>\n",
       "    </tr>\n",
       "    <tr>\n",
       "      <th>9</th>\n",
       "      <td>1</td>\n",
       "      <td>32.0</td>\n",
       "      <td>51700.0</td>\n",
       "      <td>1</td>\n",
       "      <td>0</td>\n",
       "    </tr>\n",
       "  </tbody>\n",
       "</table>\n",
       "</div>"
      ],
      "text/plain": [
       "   Пол  Возраст  Зарплата  Члены семьи  Страховые выплаты\n",
       "0    1     41.0   49600.0            1                  0\n",
       "1    0     46.0   38000.0            1                  1\n",
       "2    0     29.0   21000.0            0                  0\n",
       "3    0     21.0   41700.0            2                  0\n",
       "4    1     28.0   26100.0            0                  0\n",
       "5    1     43.0   41000.0            2                  1\n",
       "6    1     39.0   39700.0            2                  0\n",
       "7    1     25.0   38600.0            4                  0\n",
       "8    1     36.0   49700.0            1                  0\n",
       "9    1     32.0   51700.0            1                  0"
      ]
     },
     "execution_count": 3,
     "metadata": {},
     "output_type": "execute_result"
    }
   ],
   "source": [
    "# обзор данных\n",
    "\n",
    "data.head(10)"
   ]
  },
  {
   "cell_type": "code",
   "execution_count": 4,
   "id": "4f1d0faf",
   "metadata": {},
   "outputs": [
    {
     "name": "stdout",
     "output_type": "stream",
     "text": [
      "<class 'pandas.core.frame.DataFrame'>\n",
      "RangeIndex: 5000 entries, 0 to 4999\n",
      "Data columns (total 5 columns):\n",
      " #   Column             Non-Null Count  Dtype  \n",
      "---  ------             --------------  -----  \n",
      " 0   Пол                5000 non-null   int64  \n",
      " 1   Возраст            5000 non-null   float64\n",
      " 2   Зарплата           5000 non-null   float64\n",
      " 3   Члены семьи        5000 non-null   int64  \n",
      " 4   Страховые выплаты  5000 non-null   int64  \n",
      "dtypes: float64(2), int64(3)\n",
      "memory usage: 195.4 KB\n"
     ]
    }
   ],
   "source": [
    "# обзор данных\n",
    "\n",
    "data.info()"
   ]
  },
  {
   "cell_type": "code",
   "execution_count": 5,
   "id": "c5b22ddd",
   "metadata": {},
   "outputs": [
    {
     "data": {
      "text/plain": [
       "(5000, 5)"
      ]
     },
     "execution_count": 5,
     "metadata": {},
     "output_type": "execute_result"
    }
   ],
   "source": [
    "# обзор данных\n",
    "\n",
    "data.shape"
   ]
  },
  {
   "cell_type": "code",
   "execution_count": 6,
   "id": "44bfd4d2",
   "metadata": {},
   "outputs": [
    {
     "data": {
      "text/plain": [
       "<AxesSubplot:>"
      ]
     },
     "execution_count": 6,
     "metadata": {},
     "output_type": "execute_result"
    },
    {
     "data": {
      "image/png": "[encoded data removed]",
      "text/plain": [
       "<Figure size 432x288 with 2 Axes>"
      ]
     },
     "metadata": {
      "needs_background": "light"
     },
     "output_type": "display_data"
    }
   ],
   "source": [
    "# проверка корреляции признаков\n",
    "\n",
    "triangle = np.triu(data.corr())\n",
    "\n",
    "sns.heatmap(data.corr(), \n",
    "            annot = True,\n",
    "            cmap = 'Set3',\n",
    "            mask = triangle\n",
    "           )"
   ]
  },
  {
   "cell_type": "markdown",
   "id": "0a5aaa3e",
   "metadata": {},
   "source": [
    "<div class=\"alert alert-info\">\n",
    "\n",
    "**Вывод**\n",
    "\n",
    " - В данных нет пропусков, все данные численного формата\n",
    " - Тип данных колонки возраст можно заменить на целочисленный \n",
    " - Для корректной работы линейной регрессии необходимо применить стандартизацию - размерность данных по клонкам сильно отличается\n",
    " - Корреляции между признаками не выявлено\n",
    " "
   ]
  },
  {
   "cell_type": "markdown",
   "id": "a0e7ac86",
   "metadata": {},
   "source": [
    "## Предобработка "
   ]
  },
  {
   "cell_type": "code",
   "execution_count": 7,
   "id": "d6639e45",
   "metadata": {},
   "outputs": [],
   "source": [
    "# замена типа данных\n",
    "\n",
    "data['Возраст'] = data['Возраст'].astype('int')"
   ]
  },
  {
   "cell_type": "markdown",
   "id": "426ded3f",
   "metadata": {},
   "source": [
    "## Подготовка к обучению"
   ]
  },
  {
   "cell_type": "code",
   "execution_count": 8,
   "id": "d08cd394",
   "metadata": {},
   "outputs": [],
   "source": [
    "# напишем функцию для обучения для упрощения процесса\n",
    "\n",
    "def learning(df):\n",
    "    \n",
    "    # разделяем датасет на целевой признак и признаки обучения\n",
    "    X = df.drop(['Страховые выплаты'], axis=1)\n",
    "    y = df['Страховые выплаты']\n",
    "\n",
    "    # разделяем на обучающую и тестовую выборку\n",
    "    X_train, X_test, y_train, y_test = train_test_split(X, y, train_size=0.7, random_state=123)\n",
    "    \n",
    "    # задаем шаги в пайплайн (стандартизируем данные и задаем модель)\n",
    "    pipeline = Pipeline(steps=[\n",
    "        ('scaler', StandardScaler()), \n",
    "        ('model', LinearRegression())\n",
    "    ])\n",
    "    \n",
    "    # обучаем модель и выводим метрику качества\n",
    "    pipeline.fit(X_train, y_train)\n",
    "    y_pred = pipeline.predict(X_test)\n",
    "    r2 = r2_score(y_test, y_pred)\n",
    "    \n",
    "    # возвращаем метрику\n",
    "    return r2"
   ]
  },
  {
   "cell_type": "markdown",
   "id": "dc1ca095",
   "metadata": {},
   "source": [
    "# Теоритическое обоснование предложенного алгоритма "
   ]
  },
  {
   "cell_type": "markdown",
   "id": "19502eb8",
   "metadata": {},
   "source": [
    "Необходимо доказать неизменность качества линейной регрессии, если признаки будут изменены путем умножения на обратимую матрицу"
   ]
  },
  {
   "cell_type": "markdown",
   "id": "d895daf6",
   "metadata": {},
   "source": [
    "<div class=\"alert alert-success\">\n",
    "\n",
    "*Исходные теоретические данные*\n",
    "\n",
    "Формула линейной регрессии (сокращенная):\n",
    "    \n",
    "**Xw = y**, где X-матрица признаков, w-векор весов, y-вектор target\n",
    "\n",
    "Формула предсказания линейной регрессии:\n",
    "\n",
    "**a = Xw**, где а-предсказание  \n",
    "\n",
    "*НЕОБХОДИМО ДОКАЗАТЬ, что **a0** по исходной матрице признаков равно **а1** по матрице признаков, умноженной на обратимую матрицу*"
   ]
  },
  {
   "cell_type": "markdown",
   "id": "c64a89ea",
   "metadata": {},
   "source": [
    "<div class=\"alert alert-info\">\n",
    "\n",
    "**ФОРМУЛЫ**\n",
    "\n",
    "В дальнейшей теоритической части будут использоваться следующие формулы матриц\\дифференциалов:\n",
    "    \n",
    "*Матриц*\n",
    "\n",
    "$$ (AB)^{-1} = B^{-1}A^{-1} $$ (0)\n",
    "$$ (AB)^{T} = B^TA^T $$ (1)\n",
    "$$ (A^T)^T = A $$ (2)\n",
    "$$ A^{-1}A = E $$ (3)\n",
    "$$ (ABС)^{-1} = ((AB)С)^{-1} = ((AB)С)^{-1} = С^{-1}(AB)^{-1} = С^{-1}B^{-1}A^{-1} $$  (4)  \n",
    "\n",
    "*Дифференциалов*\n",
    "\n",
    "$$ c' = 0 $$ (5)\n",
    "$$ (u-v)' = u'-v' $$ (6)\n",
    "\n",
    "*Дифференциалов матриц*\n",
    "\n",
    "$$ \\frac{\\partial (x^Tb)}{\\partial x} = \\frac{\\partial (b^Tx)}{\\partial x} = b $$ (7)\n",
    "$$ \\frac{\\partial (x^TAx)}{\\partial x} = 2Ax $$ (8)"
   ]
  },
  {
   "cell_type": "markdown",
   "id": "932e9f49",
   "metadata": {},
   "source": [
    "**ВЫВОД w**\n",
    "\n",
    "Выведем формулу, исходя из того, что при минимизации MSE вес будет находиться так:\n",
    "\n",
    "$$ w = \\arg\\min_w MSE(Xw, y) $$\n",
    "\n",
    "\n",
    "Представим функцию потерь как:\n",
    "\n",
    "$$ MSE = (y - Xw)^2 $$ (1.1)\n",
    "$$ MSE = (y - Xw)^T(y - Xw)  $$ \n",
    "\n",
    "Раскроем полученное выражение:\n",
    "\n",
    "$$ MSE = yy^T - w^TX^Ty - y^TXw + w^TX^TXw $$ \n",
    "\n",
    "Для минимизации найдем частную производную w':\n",
    "\n",
    "$$ (yy^T - w^TX^Ty - y^TXw + w^TX^TXw)'_w $$\n",
    "\n",
    "Подробно опишем нахождение производных: \n",
    "\n",
    "$ (yy^T)'_w = 0 $ (константа, формула 5)\n",
    "\n",
    "$ (w^TX^Ty)'_w = X^Ty $ (формула 6)\n",
    "\n",
    "$ (y^TXw)'_w = (y^T(X^T)^Tw)'_w = ((X^Ty)^Tw)'_w = X^Ty $ (формула 7, для преобразования - 2 и 1)\n",
    "\n",
    "$ (w^TX^TXw)'_w = 2X^TXw $ (формула 8)\n",
    "\n",
    "Итог дифферинцирования выражения частной производной w':\n",
    "\n",
    "$$ 0 - X^Ty - X^Ty + 2X^TXw $$\n",
    "\n",
    "$$ -2X^Ty - X^Ty + 2X^TXw $$\n",
    "\n",
    "Для нахождения минимума приравниваем к нулю и выражаем w:\n",
    "\n",
    "$$ 2(-X^Ty + X^TXw) = 0 $$\n",
    "$$ -X^Ty + X^TXw = 0 $$\n",
    "$$ X^TXw = X^Ty $$\n",
    "$$ w = (X^TX)^{-1}X^Ty $$"
   ]
  },
  {
   "cell_type": "markdown",
   "id": "0d04e152",
   "metadata": {},
   "source": [
    "\n",
    "\n",
    "**ВЫВОД w_p**\n",
    "\n",
    "Выразим w_p для измененной матрицы XP, где P - обратимая матрица:\n",
    "\n",
    "$$ w_p = ((XP)^TXP)^{-1}(XP)^Ty  $$\n",
    "\n",
    "Откроем скобки по формуле (1):\n",
    "    \n",
    "$$ w_p = (P^TX^TXP)^{-1}P^TX^Ty $$   \n",
    "\n",
    "         \n",
    "Так как формула (0) актуальна только для квадртных матриц, отдельно обработаем выражение $ (P^TX^TXP)^{-1} $:\n",
    "    \n",
    "    \n",
    "*Квадратные матрицы в нем*:\n",
    "    \n",
    "$ P^T $\n",
    "    \n",
    "$ X^TX $\n",
    "    \n",
    "$ P $    \n",
    "    \n",
    "Тогда преобразуем выражение по формуле (4):\n",
    "\n",
    "$$ w_p = (X^TX(P^TP))^{-1}P^TX^Ty $$ \n",
    "\n",
    "$$ w_p = (X^TX)^{-1}(P^TP)^{-1}P^TX^Ty $$ \n",
    "    \n",
    "$$ w_p =  (X^TX)^{-1}P^{-1}(P^T)^{-1}P^TX^Ty $$ \n",
    "\n",
    "$$ w_p = (X^TX)^{-1}P^{-1}EX^Ty $$ (формула 3)\n",
    "\n",
    "$$ w_p = (X^TX)^{-1}P^{-1}X^Ty $$ \n",
    "    \n",
    "$$ w_p = P^{-1}(X^TX)^{-1}X^Ty $$ \n",
    "\n",
    "| обратим внимание, что \n",
    "$ (X^TX)^{-1}X^Ty = w $\n",
    "    \n",
    "    \n",
    "$$  w_p = P^{-1}w $$"
   ]
  },
  {
   "cell_type": "markdown",
   "id": "feb3e2c3",
   "metadata": {},
   "source": [
    "Тогда:\n",
    "\n",
    "$$\n",
    "a1 = XPw_p = XPP^{-1}w = Xw = a0\n",
    "$$\n",
    "\n",
    "Необходимое выражение доказано - качество предсказания линейной регрессии при умножении матрицы признаков на обратимую матрицу не должно измениться"
   ]
  },
  {
   "cell_type": "markdown",
   "id": "9bc8294d",
   "metadata": {},
   "source": [
    "# Алгоритм защиты данных"
   ]
  },
  {
   "cell_type": "markdown",
   "id": "9d3676bc",
   "metadata": {},
   "source": [
    "Используем описанный ранее алгоритм для преобразования данных - умножение на **обратимую** матрицу\n",
    "\n",
    "Учтем, что для корректного умножения необходимо чтобы совпадала ширина матрицы X и высота матрицы A, причем матрица A - квадратная (т.к обратимая)\n",
    "\n",
    "    dim(X) = (m,n)\n",
    "    dim(A) = (n,n)\n",
    "\n",
    "Тогда\n",
    "\n",
    "    dim(XA) = (m,n)"
   ]
  },
  {
   "cell_type": "code",
   "execution_count": 9,
   "id": "1e223fb3",
   "metadata": {},
   "outputs": [],
   "source": [
    "# напишем класс для добавления в пайплайн преобразования массива\n",
    "\n",
    "class MatrixTransformer(BaseEstimator, TransformerMixin):\n",
    "    def __init__(self, width):\n",
    "        self.width = width\n",
    "        self.size = len(width)\n",
    "        self.matrix = self.save()\n",
    "\n",
    "    def save(self):\n",
    "        matrix = np.random.normal(size=(self.size,self.size))\n",
    "    \n",
    "        try:\n",
    "            np.linalg.inv(matrix)\n",
    "            return matrix\n",
    "        except:\n",
    "            return self.save   \n",
    "        \n",
    "    def fit(self, X, y):\n",
    "        return self\n",
    "\n",
    "    def transform(self, X):\n",
    "        XP = X[self.width] @ self.matrix\n",
    "        return XP"
   ]
  },
  {
   "cell_type": "code",
   "execution_count": 10,
   "id": "d6eb5a3e",
   "metadata": {},
   "outputs": [],
   "source": [
    "# напишем функцию с преобразованием для обучения \n",
    "\n",
    "def learning_changed_data(df):\n",
    "    \n",
    "    # разделяем датасет на целевой признак и признаки обучения\n",
    "    X = df.drop(['Страховые выплаты'], axis=1)\n",
    "    y = df['Страховые выплаты']\n",
    "    \n",
    "    # задаем шаги в пайплайн \n",
    "    pipeline = Pipeline(steps=[\n",
    "        ('transform', MatrixTransformer(X.columns)),\n",
    "        ('scaler', StandardScaler()), \n",
    "        ('model', LinearRegression())\n",
    "    ])\n",
    "    \n",
    "    X_train, X_test, y_train, y_test = train_test_split(X, y, train_size=0.7, random_state=123)\n",
    "    \n",
    "    # обучаем модель и выводим метрику качества\n",
    "    pipeline.fit(X_train, y_train)\n",
    "    y_pred = pipeline.predict(X_test)\n",
    "    r2 = r2_score(y_test, y_pred)\n",
    "    \n",
    "    # возвращаем метрику\n",
    "    return r2"
   ]
  },
  {
   "cell_type": "code",
   "execution_count": 11,
   "id": "066c3e18",
   "metadata": {},
   "outputs": [
    {
     "name": "stdout",
     "output_type": "stream",
     "text": [
      "Метрика R2 изначальной матрицы X 0.426192607277431\n",
      "Метрика R2 преобразованной матрицы XA 0.42619260727741937\n"
     ]
    }
   ],
   "source": [
    "# выведем и сравним целевую метрику изначальной и преобразованной матрицы\n",
    "\n",
    "r2_X = learning(data)\n",
    "r2_XP = learning_changed_data(data)\n",
    "\n",
    "print('Метрика R2 изначальной матрицы X', r2_X)\n",
    "print('Метрика R2 преобразованной матрицы XA', r2_XP)"
   ]
  },
  {
   "cell_type": "markdown",
   "id": "452ac7be",
   "metadata": {},
   "source": [
    "# Вывод"
   ]
  },
  {
   "cell_type": "markdown",
   "id": "a1e3bcc0",
   "metadata": {},
   "source": [
    "<div class=\"alert alert-warning\">\n",
    "\n",
    "  1. Проведена предобработка данных (качеству модели можно доверять):\n",
    "  \n",
    "    - изменен тип данных, \n",
    "    - проверена проверка на мультиколлинеарность, \n",
    "    - а также проведена стандартизация данных    \n",
    "    \n",
    "\n",
    "  2. Выведен алгоритм сохранения персональных данных клиентов - полученные признаки умножаются на обратимую рандомную матрицу:\n",
    "  \n",
    "    - алгоритм доказан теоритически, с помощью формул линейной регрессии и предсказаний линйеной регрессии (предсказание неизмененной матрицы совпадает с предсказанием преобразованной матрицы)\n",
    "    - проведена практическая проверка теории - проведено обучение линейной регрессии на изначальных и преобразованных данных - метрики качества совпадают"
   ]
  }
 ],
 "metadata": {
  "ExecuteTimeLog": [
   {
    "duration": 1715,
    "start_time": "2023-01-25T06:49:15.323Z"
   },
   {
    "duration": 173,
    "start_time": "2023-01-25T06:49:17.040Z"
   },
   {
    "duration": 15,
    "start_time": "2023-01-25T06:49:17.215Z"
   },
   {
    "duration": 10,
    "start_time": "2023-01-25T06:49:17.233Z"
   },
   {
    "duration": 4,
    "start_time": "2023-01-25T06:49:17.244Z"
   },
   {
    "duration": 4,
    "start_time": "2023-01-25T06:49:17.250Z"
   },
   {
    "duration": 5,
    "start_time": "2023-01-25T06:49:17.256Z"
   },
   {
    "duration": 8,
    "start_time": "2023-01-25T06:49:17.263Z"
   },
   {
    "duration": 5,
    "start_time": "2023-01-25T06:49:17.272Z"
   },
   {
    "duration": 101,
    "start_time": "2023-01-25T06:49:17.279Z"
   },
   {
    "duration": 0,
    "start_time": "2023-01-25T06:49:17.381Z"
   },
   {
    "duration": 2511,
    "start_time": "2023-01-26T05:49:55.346Z"
   },
   {
    "duration": 176,
    "start_time": "2023-01-26T05:49:57.860Z"
   },
   {
    "duration": 14,
    "start_time": "2023-01-26T05:49:58.038Z"
   },
   {
    "duration": 14,
    "start_time": "2023-01-26T05:49:58.053Z"
   },
   {
    "duration": 8,
    "start_time": "2023-01-26T05:49:58.069Z"
   },
   {
    "duration": 410,
    "start_time": "2023-01-26T05:49:58.078Z"
   },
   {
    "duration": 4,
    "start_time": "2023-01-26T05:49:58.489Z"
   },
   {
    "duration": 4,
    "start_time": "2023-01-26T05:49:58.499Z"
   },
   {
    "duration": 6,
    "start_time": "2023-01-26T05:49:58.505Z"
   },
   {
    "duration": 10,
    "start_time": "2023-01-26T05:49:58.513Z"
   },
   {
    "duration": 82,
    "start_time": "2023-01-26T05:49:58.524Z"
   },
   {
    "duration": 2069,
    "start_time": "2023-01-26T06:01:16.297Z"
   },
   {
    "duration": 87,
    "start_time": "2023-01-26T06:01:18.370Z"
   },
   {
    "duration": 13,
    "start_time": "2023-01-26T06:01:18.459Z"
   },
   {
    "duration": 12,
    "start_time": "2023-01-26T06:01:18.474Z"
   },
   {
    "duration": 15,
    "start_time": "2023-01-26T06:01:18.487Z"
   },
   {
    "duration": 330,
    "start_time": "2023-01-26T06:01:18.503Z"
   },
   {
    "duration": 4,
    "start_time": "2023-01-26T06:01:18.834Z"
   },
   {
    "duration": 11,
    "start_time": "2023-01-26T06:01:18.840Z"
   },
   {
    "duration": 6,
    "start_time": "2023-01-26T06:01:18.853Z"
   },
   {
    "duration": 6,
    "start_time": "2023-01-26T06:01:18.864Z"
   },
   {
    "duration": 35,
    "start_time": "2023-01-26T06:01:18.872Z"
   },
   {
    "duration": 11,
    "start_time": "2023-01-26T06:03:21.727Z"
   },
   {
    "duration": 2333,
    "start_time": "2023-01-27T07:49:47.283Z"
   },
   {
    "duration": 128,
    "start_time": "2023-01-27T07:49:49.619Z"
   },
   {
    "duration": 16,
    "start_time": "2023-01-27T07:49:49.749Z"
   },
   {
    "duration": 17,
    "start_time": "2023-01-27T07:49:49.768Z"
   },
   {
    "duration": 12,
    "start_time": "2023-01-27T07:49:49.787Z"
   },
   {
    "duration": 400,
    "start_time": "2023-01-27T07:49:49.800Z"
   },
   {
    "duration": 19,
    "start_time": "2023-01-27T07:49:50.202Z"
   },
   {
    "duration": 29,
    "start_time": "2023-01-27T07:49:50.223Z"
   },
   {
    "duration": 13,
    "start_time": "2023-01-27T07:49:50.254Z"
   },
   {
    "duration": 25,
    "start_time": "2023-01-27T07:49:50.270Z"
   },
   {
    "duration": 19,
    "start_time": "2023-01-27T07:49:50.297Z"
   },
   {
    "duration": 10,
    "start_time": "2023-01-27T07:49:50.318Z"
   },
   {
    "duration": 17,
    "start_time": "2023-01-27T07:49:50.330Z"
   },
   {
    "duration": 40,
    "start_time": "2023-01-27T07:49:50.349Z"
   },
   {
    "duration": 8,
    "start_time": "2023-01-27T07:49:50.391Z"
   },
   {
    "duration": 19,
    "start_time": "2023-01-27T07:49:50.402Z"
   },
   {
    "duration": 59,
    "start_time": "2023-01-27T07:49:50.423Z"
   },
   {
    "duration": 154,
    "start_time": "2023-01-27T07:49:50.484Z"
   },
   {
    "duration": 24,
    "start_time": "2023-01-27T07:49:50.639Z"
   },
   {
    "duration": 55,
    "start_time": "2023-01-27T07:49:50.665Z"
   },
   {
    "duration": 121,
    "start_time": "2023-01-27T08:11:09.769Z"
   },
   {
    "duration": 4,
    "start_time": "2023-01-27T08:11:57.607Z"
   },
   {
    "duration": 17,
    "start_time": "2023-01-27T08:11:57.925Z"
   },
   {
    "duration": 5,
    "start_time": "2023-01-27T08:12:26.109Z"
   },
   {
    "duration": 27,
    "start_time": "2023-01-27T08:12:26.386Z"
   },
   {
    "duration": 20,
    "start_time": "2023-01-27T08:12:54.766Z"
   },
   {
    "duration": 4,
    "start_time": "2023-01-27T08:13:25.060Z"
   },
   {
    "duration": 20,
    "start_time": "2023-01-27T08:13:25.905Z"
   },
   {
    "duration": 23,
    "start_time": "2023-01-27T08:13:56.781Z"
   }
  ],
  "kernelspec": {
   "display_name": "Python 3 (ipykernel)",
   "language": "python",
   "name": "python3"
  },
  "language_info": {
   "codemirror_mode": {
    "name": "ipython",
    "version": 3
   },
   "file_extension": ".py",
   "mimetype": "text/x-python",
   "name": "python",
   "nbconvert_exporter": "python",
   "pygments_lexer": "ipython3",
   "version": "3.9.12"
  },
  "toc": {
   "base_numbering": 1,
   "nav_menu": {},
   "number_sections": true,
   "sideBar": true,
   "skip_h1_title": false,
   "title_cell": "Table of Contents",
   "title_sidebar": "Contents",
   "toc_cell": false,
   "toc_position": {
    "height": "calc(100% - 180px)",
    "left": "10px",
    "top": "150px",
    "width": "303.825px"
   },
   "toc_section_display": true,
   "toc_window_display": true
  }
 },
 "nbformat": 4,
 "nbformat_minor": 5
}
